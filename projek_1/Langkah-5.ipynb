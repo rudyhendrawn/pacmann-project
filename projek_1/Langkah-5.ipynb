{
 "cells": [
  {
   "attachments": {},
   "cell_type": "markdown",
   "metadata": {},
   "source": [
    "# Langkah #5 - Pengujian Hipotesis\n",
    "---"
   ]
  },
  {
   "cell_type": "code",
   "execution_count": null,
   "metadata": {},
   "outputs": [],
   "source": [
    "import pandas as pd\n",
    "import numpy as np\n",
    "import seaborn as sns\n",
    "import matplotlib.pyplot as plt"
   ]
  },
  {
   "cell_type": "code",
   "execution_count": null,
   "metadata": {},
   "outputs": [],
   "source": [
    "df = pd.read_csv('insurance.csv')\n",
    "df.head()"
   ]
  },
  {
   "attachments": {},
   "cell_type": "markdown",
   "metadata": {},
   "source": [
    "---\n",
    "### Hipotesis #1. Tagihan kesehatan perokok lebih tinggi daripada tagihan kesehatan non perokok"
   ]
  },
  {
   "attachments": {},
   "cell_type": "markdown",
   "metadata": {},
   "source": [
    "**Langkah 1: Siapkan hipotesis**\n",
    "- H0: Perokok memiliki tagihan kesehatan > daripada tagihan non perokok\n",
    "- H1: Perokok memiliki tagihan kesehatan <= daripada tagihan non perokok\n",
    "- $\\alpha$: 5%"
   ]
  },
  {
   "cell_type": "code",
   "execution_count": null,
   "metadata": {},
   "outputs": [],
   "source": [
    "# Tentukan populasinya\n",
    "# 1. Sampel Tagihan Perokok\n",
    "jml_perokok = df[df['smoker']=='yes'].value_counts().sum()\n",
    "print(\"Jumlah perokok: {} orang\".format(jml_perokok))\n",
    "\n",
    "# 2. Sampel Tagihan non perokok\n",
    "jml_non_perokok = df[df['smoker']=='no'].value_counts().sum()\n",
    "print(\"Jumlah non perokok: {} orang\".format(jml_non_perokok))\n",
    "print(\"Jumlah keseluruhan sampel: {}\".format(df.shape[0]))\n",
    "\n",
    "# Tentukan rata-rata charges(tagihan) dari kedua sampel\n",
    "print(\"\\nRata-rata tagihan pada perokok dan non perokok: \")\n",
    "mu = df[['charges']].groupby(df['smoker']).mean()\n",
    "print(mu)\n",
    "mu1 = mu['charges']['no']\n",
    "mu2 = mu['charges']['yes']"
   ]
  },
  {
   "cell_type": "code",
   "execution_count": null,
   "metadata": {},
   "outputs": [],
   "source": [
    "# Plot distribusi charges di seluruh populasi\n",
    "sns.displot(df, x='charges')\n",
    "plt.axvline(x=mu1, linestyle='--', c='red', label='mean tagihan non perokok')\n",
    "plt.axvline(x=mu2, linestyle='--', c='purple', label='mean tagihan perokok')"
   ]
  },
  {
   "attachments": {},
   "cell_type": "markdown",
   "metadata": {},
   "source": [
    "Berdasarkan grafik di atas terlihat bahwa bentuk distribusi data adalah positive-skew. Maka dari itu kita perlu menormalkan distribusi charges dengan mengeluarkan data outlier dari distribusi. Dari grafik terlihat bahwa outlier dimulai dari data `charges` dengan nilai di atas 15K. "
   ]
  },
  {
   "cell_type": "code",
   "execution_count": null,
   "metadata": {},
   "outputs": [],
   "source": [
    "# Filter data tagihan, gunakan tagihan (charges) < 15K\n",
    "data_charges = df[df['charges']<15000]\n",
    "print(\"Jumlah sampel sekarang menjadi: {}\".format(data_charges.shape[0]))\n",
    "\n",
    "# Sampel Baru Tagihan Perokok\n",
    "jml_perokok = data_charges.where(df['smoker']=='yes').value_counts().sum()\n",
    "print(\"Jumlah sampel baru perokok: {} orang\".format(jml_perokok))\n",
    "\n",
    "# Sampel Baru Tagihan non perokok\n",
    "jml_non_perokok = data_charges.where(df['smoker']=='no').value_counts().sum()\n",
    "print(\"Jumlah sampel baru non perokok: {} orang\".format(jml_non_perokok))\n",
    "\n",
    "# Tentukan rata-rata charges(tagihan) dari kedua populasi\n",
    "print(\"\\nRata-rata tagihan pada perokok dan non perokok: \")\n",
    "mu = data_charges[['charges']].groupby(df['smoker']).mean()\n",
    "print(mu)\n",
    "mu1 = mu['charges']['no']\n",
    "mu2 = mu['charges']['yes']\n",
    "\n",
    "sns.displot(data_charges, x='charges')\n",
    "plt.axvline(x=mu1, linestyle='--', c='red', label='mean tagihan non perokok')\n",
    "plt.axvline(x=mu2, linestyle='--', c='purple', label='mean tagihan perokok')"
   ]
  },
  {
   "cell_type": "code",
   "execution_count": null,
   "metadata": {},
   "outputs": [],
   "source": [
    "# Pisahkan sampel tagihan perokok dengan non-perokok\n",
    "tagihan_smoker = data_charges['charges'].where(df['smoker']=='yes').dropna()\n",
    "tagihan_non_smoker = data_charges['charges'].where(df['smoker']=='no').dropna()"
   ]
  },
  {
   "attachments": {},
   "cell_type": "markdown",
   "metadata": {},
   "source": [
    "**Langkah 2: Hitung Statistik Uji**\n",
    "\n",
    "Pada kasus ini digunakan statistik Uji T."
   ]
  },
  {
   "attachments": {},
   "cell_type": "markdown",
   "metadata": {},
   "source": [
    "**Langkah 3: Menentukan aturan keputusan**\n",
    "\n",
    "Aturan keputusan didasarkan pada nilai spesifik dari statistik uji (misal, tolak H0 jika Z > 1.645). Karena pada H1 mengandung tanda \"<\", maka disini dilakukan Lower-tailed test. Dalam uji pihak kiri, aturan keputusan memiliki aturan menolak H0 jika statistik uji lebih kecil dari **nilai kritis**."
   ]
  },
  {
   "attachments": {},
   "cell_type": "markdown",
   "metadata": {},
   "source": [
    "**Langkah 4: Menentukan Kritikal Value** "
   ]
  },
  {
   "cell_type": "code",
   "execution_count": null,
   "metadata": {},
   "outputs": [],
   "source": [
    "print(\"Varian Tagihan Perokok: {}\".format(tagihan_smoker.var()))\n",
    "print(\"Varian Tagihan non Perokok: {}\".format(tagihan_non_smoker.var()))"
   ]
  },
  {
   "cell_type": "code",
   "execution_count": null,
   "metadata": {},
   "outputs": [],
   "source": [
    "# Langkah 2 s/d 4 diimplementasikan sekaligus\n",
    "from scipy.stats import ttest_ind\n",
    "\n",
    "# Lakukan statistik uji T dan hitung p_value\n",
    "test_stats, p_value = ttest_ind(a=tagihan_smoker, b=tagihan_non_smoker, equal_var=False, alternative='less')\n",
    "print(\"Hasil Uji T: {}\".format(test_stats))\n",
    "print(\"P-value: {}\".format(p_value))"
   ]
  },
  {
   "attachments": {},
   "cell_type": "markdown",
   "metadata": {},
   "source": [
    "**Langkah 5: Membuat Keputusan**\n",
    "\n",
    "Ada dua bentuk umum yang dapat diambil dari hasil uji hipotesis statistik.\n",
    "- p-value. \n",
    "    - Nilai `P` digunakan dalam pengujian hipotesis untuk membantu memutuskan apakah akan menolak hipotesis nol.\n",
    "    - Nilai `p-value` adalah bukti terhadap hipotesis nol. Semakin kecil nilai `p-value`, semakin kuat bukti bahwa kita harus menolak hipotesis nol.\n",
    "- critical value\n",
    "    - Nilai batas yang digunakan untuk menandai dimulainya suatu wilayah di mana statistik uji, yang diperoleh dalam pengujian hipotesis, tidak mungkin jatuh.\n",
    "    - Nilai kritis dibandingkan dengan statistik uji yang diperoleh untuk menentukan apakah hipotesis nol harus ditolak atau tidak.\n",
    "    - Statistik uji < Critical value: Hasil tidak signifikan, gagal menolak H0.\n",
    "    - Statistik uji >= Critical value: Hasil signifikan, tolak hipotesis H0."
   ]
  },
  {
   "cell_type": "code",
   "execution_count": null,
   "metadata": {},
   "outputs": [],
   "source": [
    "alpha = 0.05\n",
    "if p_value > alpha:\n",
    "    print(\"Gagal tolak H0\")\n",
    "else:\n",
    "    print(\"Tolak H0\")"
   ]
  },
  {
   "attachments": {},
   "cell_type": "markdown",
   "metadata": {},
   "source": [
    "Berdasarkan keputusan yang didapatkan, maka kesimpulan dari pengujian hipotesis yang sudah dilakukan adalah **Tagihan kesehatan perokok lebih tinggi daripada tagihan kesehatan non perokok**."
   ]
  },
  {
   "attachments": {},
   "cell_type": "markdown",
   "metadata": {},
   "source": [
    "---\n",
    "### Hipotesis #4. Tagihan kesehatan dengan BMI diatas 25 lebih tinggi daripada tagihan kesehatan dengan BMI dibawah 25"
   ]
  },
  {
   "attachments": {},
   "cell_type": "markdown",
   "metadata": {},
   "source": [
    "**Hipotesis**\n",
    "- H0: Tagihan kesehatan dengan BMI di atas 25 > Tagihan kesehatan dengan BMI di bawah 25.\n",
    "- H1: Tagihan kesehatan dengan BMI di atas 25 < Tagihan kesehatan dengan BMI di bawah 25.\n",
    "- $\\alpha$: 5%"
   ]
  },
  {
   "attachments": {},
   "cell_type": "markdown",
   "metadata": {},
   "source": [
    "Kasus ini mirip dengan penyelesaian pada Hipotesis #1, di mana kondisi distribusi data tagihan (`charges`) adalah positiven skew. Maka dari itu kita bisa mengabaikan data outlier untuk kemudian masuk ke statistik uji."
   ]
  },
  {
   "cell_type": "code",
   "execution_count": null,
   "metadata": {},
   "outputs": [],
   "source": [
    "# Filter data tagihan, gunakan tagihan (charges) < 15K\n",
    "data_charges = df[df['charges']<15000]\n",
    "print(\"Jumlah sampel sekarang menjadi: {}\".format(data_charges.shape[0]))\n",
    "\n",
    "# Sampel Baru Tagihan BMI>25\n",
    "bmi_g25_tagihan = data_charges.where(df['bmi']>25).value_counts().sum()\n",
    "print(\"Jumlah sampel tagihan dengan BMI>25: {} orang\".format(bmi_g25_tagihan))\n",
    "\n",
    "# Sampel Baru Tagihan BMI<25\n",
    "bmi_l25_tagihan = data_charges.where(df['bmi']<=25).value_counts().sum()\n",
    "print(\"Jumlah sampel tagihan dengan BMI<=25: {} orang\".format(bmi_l25_tagihan))\n",
    "\n",
    "# Tentukan rata-rata charges(tagihan) dari kedua populasi\n",
    "print(\"\\nRata-rata tagihan pada BMI>25 dan BMI<=25: \")\n",
    "mu = data_charges[['charges']].groupby(df['bmi']>25).mean()\n",
    "print(mu)\n",
    "mu1 = mu['charges'][0]\n",
    "mu2 = mu['charges'][1]\n",
    "\n",
    "sns.displot(data_charges, x='charges')\n",
    "plt.axvline(x=mu1, linestyle='--', c='red', label='mean tagihan')\n",
    "plt.axvline(x=mu2, linestyle='--', c='purple', label='mean tagihan')"
   ]
  },
  {
   "cell_type": "code",
   "execution_count": null,
   "metadata": {},
   "outputs": [],
   "source": [
    "# Pisahkan sampel tagihan dengan BMI> dan BMI<=25\n",
    "bmi_g25 = data_charges['charges'].where(df['bmi']>25).dropna()\n",
    "bmi_l25 = data_charges['charges'].where(df['bmi']<=25).dropna()\n",
    "print(\"Varian Tagihan BMI>25: {}\".format(bmi_g25.var()))\n",
    "print(\"Varian Tagihan BMI<=25: {}\".format(bmi_l25.var()))\n",
    "equal_var = True if bmi_g25.var()==bmi_l25.var() else False\n",
    "print(\"Apakah varian kedua sampel sama? {}\".format(equal_var))"
   ]
  },
  {
   "attachments": {},
   "cell_type": "markdown",
   "metadata": {},
   "source": [
    "**Lakukan Statistik Uji T dan Hitung p_value**"
   ]
  },
  {
   "cell_type": "code",
   "execution_count": null,
   "metadata": {},
   "outputs": [],
   "source": [
    "alpha = 0.05\n",
    "test_stats, p_value = ttest_ind(a=bmi_g25, b=bmi_l25, equal_var=equal_var, alternative='less')\n",
    "print(\"Hasil Uji T: {}\".format(test_stats))\n",
    "print(\"P-value: {}\".format(p_value))\n",
    "\n",
    "if p_value > alpha:\n",
    "    print(\"Gagal tolak H0\")\n",
    "else:\n",
    "    print(\"Tolak H0\")"
   ]
  },
  {
   "attachments": {},
   "cell_type": "markdown",
   "metadata": {},
   "source": [
    "Berdasarkan keputusan yang didapatkan, maka kesimpulan dari pengujian hipotesis yang sudah dilakukan adalah **Tagihan kesehatan orang dengan BMI lebih tinggi dari 25 lebih besar daripada orang yang BMI-nya di bawah 25**."
   ]
  },
  {
   "attachments": {},
   "cell_type": "markdown",
   "metadata": {},
   "source": [
    "---\n",
    "### Hipotesis #5. Tagihan kesehatan laki-laki lebih besar dari perempuan\n",
    "\n",
    "Hal yang serupa bisa kita lakukan untuk Hipotesis 5.\n",
    "\n",
    "- H0: Tagihan kesehatan laki-laki > tagihan kesehatan perempuan\n",
    "- H1: Tagihan kesehatan laki-laki <= tagihan kesehatan perempuan\n",
    "- $\\alpha$: 5%"
   ]
  },
  {
   "cell_type": "code",
   "execution_count": null,
   "metadata": {},
   "outputs": [],
   "source": [
    "# Filter data tagihan, gunakan tagihan (charges) < 15K\n",
    "data_charges = df[df['charges']<15000]\n",
    "print(\"Jumlah sampel sekarang menjadi: {}\".format(data_charges.shape[0]))\n",
    "\n",
    "# Sampel Baru Tagihan Laki-laki\n",
    "tagihan_laki = data_charges.where(df['sex']=='male').value_counts().sum()\n",
    "print(\"Jumlah sampel tagihan pada gender laki-laki: {} orang\".format(tagihan_laki))\n",
    "\n",
    "# Sampel Baru Tagihan Perempuan\n",
    "tagihan_perempuan = data_charges.where(df['sex']=='female').value_counts().sum()\n",
    "print(\"Jumlah sampel tagihan pada gender perempuan: {} orang\".format(tagihan_perempuan))\n",
    "\n",
    "# Tentukan rata-rata charges(tagihan) dari kedua sampel\n",
    "print(\"\\nRata-rata Tagihan pada Laki-laki dan Perempuan: \")\n",
    "mu = data_charges[['charges']].groupby(df['sex']).mean()\n",
    "print(mu)\n",
    "mu1 = mu['charges']['male']\n",
    "mu2 = mu['charges']['female']\n",
    "\n",
    "sns.displot(data_charges, x='charges')\n",
    "plt.axvline(x=mu1, linestyle='--', c='red', label='mean tagihan')\n",
    "plt.axvline(x=mu2, linestyle='--', c='purple', label='mean tagihan')"
   ]
  },
  {
   "cell_type": "code",
   "execution_count": null,
   "metadata": {},
   "outputs": [],
   "source": [
    "# Pisahkan sampel tagihan pada gender laki-laki dan perempuan\n",
    "male = data_charges['charges'].where(df['sex']=='male').dropna()\n",
    "female = data_charges['charges'].where(df['sex']=='female').dropna()\n",
    "print(\"Varian Tagihan Laki-laki: {}\".format(male.var()))\n",
    "print(\"Varian Tagihan Perempuan: {}\".format(female.var()))\n",
    "equal_var = True if male.var()==female.var() else False\n",
    "print(\"Apakah varian kedua sampel sama? {}\".format(equal_var))"
   ]
  },
  {
   "cell_type": "code",
   "execution_count": null,
   "metadata": {},
   "outputs": [],
   "source": [
    "# Uji statistik T dan P_value\n",
    "alpha = 0.05\n",
    "test_stats, p_value = ttest_ind(a=male, b=female, equal_var=equal_var, alternative='less')\n",
    "print(\"Hasil Uji T: {}\".format(test_stats))\n",
    "print(\"P-value: {}\".format(p_value))\n",
    "\n",
    "if p_value > alpha:\n",
    "    print(\"Gagal tolak H0\")\n",
    "else:\n",
    "    print(\"Tolak H0\")"
   ]
  },
  {
   "attachments": {},
   "cell_type": "markdown",
   "metadata": {},
   "source": [
    "Berdasarkan keputusan yang didapatkan, maka kesimpulan dari pengujian hipotesis yang sudah dilakukan adalah **Tagihan kesehatan laki-laki tidak lebih besar daripada tagihan kesehatan perempuan**."
   ]
  }
 ],
 "metadata": {
  "kernelspec": {
   "display_name": "pacmann-course",
   "language": "python",
   "name": "python3"
  },
  "language_info": {
   "codemirror_mode": {
    "name": "ipython",
    "version": 3
   },
   "file_extension": ".py",
   "mimetype": "text/x-python",
   "name": "python",
   "nbconvert_exporter": "python",
   "pygments_lexer": "ipython3",
   "version": "3.9.13 | packaged by conda-forge | (main, May 27 2022, 17:01:00) \n[Clang 13.0.1 ]"
  },
  "orig_nbformat": 4,
  "vscode": {
   "interpreter": {
    "hash": "c3f8ee61c80338591f092dd802abbf205f63be7a75e3521b7a9cc7616b35b09f"
   }
  }
 },
 "nbformat": 4,
 "nbformat_minor": 2
}
