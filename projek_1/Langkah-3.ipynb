{
 "cells": [
  {
   "attachments": {},
   "cell_type": "markdown",
   "metadata": {},
   "source": [
    "# Langkah #3 - Analisa Variabel Kontinu\n",
    "---"
   ]
  },
  {
   "cell_type": "code",
   "execution_count": 1,
   "metadata": {},
   "outputs": [],
   "source": [
    "import pandas as pd\n",
    "import numpy as np\n",
    "import seaborn as sns"
   ]
  },
  {
   "cell_type": "code",
   "execution_count": 2,
   "metadata": {},
   "outputs": [
    {
     "data": {
      "text/html": [
       "<div>\n",
       "<style scoped>\n",
       "    .dataframe tbody tr th:only-of-type {\n",
       "        vertical-align: middle;\n",
       "    }\n",
       "\n",
       "    .dataframe tbody tr th {\n",
       "        vertical-align: top;\n",
       "    }\n",
       "\n",
       "    .dataframe thead th {\n",
       "        text-align: right;\n",
       "    }\n",
       "</style>\n",
       "<table border=\"1\" class=\"dataframe\">\n",
       "  <thead>\n",
       "    <tr style=\"text-align: right;\">\n",
       "      <th></th>\n",
       "      <th>age</th>\n",
       "      <th>sex</th>\n",
       "      <th>bmi</th>\n",
       "      <th>children</th>\n",
       "      <th>smoker</th>\n",
       "      <th>region</th>\n",
       "      <th>charges</th>\n",
       "    </tr>\n",
       "  </thead>\n",
       "  <tbody>\n",
       "    <tr>\n",
       "      <th>0</th>\n",
       "      <td>19</td>\n",
       "      <td>female</td>\n",
       "      <td>27.900</td>\n",
       "      <td>0</td>\n",
       "      <td>yes</td>\n",
       "      <td>southwest</td>\n",
       "      <td>16884.92400</td>\n",
       "    </tr>\n",
       "    <tr>\n",
       "      <th>1</th>\n",
       "      <td>18</td>\n",
       "      <td>male</td>\n",
       "      <td>33.770</td>\n",
       "      <td>1</td>\n",
       "      <td>no</td>\n",
       "      <td>southeast</td>\n",
       "      <td>1725.55230</td>\n",
       "    </tr>\n",
       "    <tr>\n",
       "      <th>2</th>\n",
       "      <td>28</td>\n",
       "      <td>male</td>\n",
       "      <td>33.000</td>\n",
       "      <td>3</td>\n",
       "      <td>no</td>\n",
       "      <td>southeast</td>\n",
       "      <td>4449.46200</td>\n",
       "    </tr>\n",
       "    <tr>\n",
       "      <th>3</th>\n",
       "      <td>33</td>\n",
       "      <td>male</td>\n",
       "      <td>22.705</td>\n",
       "      <td>0</td>\n",
       "      <td>no</td>\n",
       "      <td>northwest</td>\n",
       "      <td>21984.47061</td>\n",
       "    </tr>\n",
       "    <tr>\n",
       "      <th>4</th>\n",
       "      <td>32</td>\n",
       "      <td>male</td>\n",
       "      <td>28.880</td>\n",
       "      <td>0</td>\n",
       "      <td>no</td>\n",
       "      <td>northwest</td>\n",
       "      <td>3866.85520</td>\n",
       "    </tr>\n",
       "  </tbody>\n",
       "</table>\n",
       "</div>"
      ],
      "text/plain": [
       "   age     sex     bmi  children smoker     region      charges\n",
       "0   19  female  27.900         0    yes  southwest  16884.92400\n",
       "1   18    male  33.770         1     no  southeast   1725.55230\n",
       "2   28    male  33.000         3     no  southeast   4449.46200\n",
       "3   33    male  22.705         0     no  northwest  21984.47061\n",
       "4   32    male  28.880         0     no  northwest   3866.85520"
      ]
     },
     "execution_count": 2,
     "metadata": {},
     "output_type": "execute_result"
    }
   ],
   "source": [
    "df = pd.read_csv('insurance.csv')\n",
    "df.head()"
   ]
  },
  {
   "cell_type": "code",
   "execution_count": 3,
   "metadata": {},
   "outputs": [
    {
     "data": {
      "text/plain": [
       "(1338, 7)"
      ]
     },
     "execution_count": 3,
     "metadata": {},
     "output_type": "execute_result"
    }
   ],
   "source": [
    "df.shape"
   ]
  },
  {
   "attachments": {},
   "cell_type": "markdown",
   "metadata": {},
   "source": [
    "---\n",
    "1. Mana yang lebih mungkin terjadi\n",
    "\n",
    "    a. Seseorang dengan BMI diatas 25 mendapatkan tagihan kesehatan diatas 16.7k, atau\n",
    "    \n",
    "    b. Seseorang dengan BMI dibawah 25 mendapatkan tagihan kesehatan diatas 16.7k"
   ]
  },
  {
   "attachments": {},
   "cell_type": "markdown",
   "metadata": {},
   "source": [
    " a. Seseorang dengan BMI diatas 25 mendapatkan tagihan kesehatan diatas 16.7k"
   ]
  },
  {
   "cell_type": "code",
   "execution_count": 4,
   "metadata": {},
   "outputs": [
    {
     "name": "stdout",
     "output_type": "stream",
     "text": [
      "Jumlah orang mendapatkan tagihan kesehatan > 16.7K: 334\n",
      "Distribusi orang dengan BMI > 25 dan mendapatkan tagihan kesehatan > 16.7K: 283\n",
      "Probability jumlah orang dengan BMI > 25 dan mendapatkan tagihan kesehatan > 16.7K: 0.85\n"
     ]
    }
   ],
   "source": [
    "# 1. Jumlah sample yaitu orang dengan tagihan kesehatan > 16.7K\n",
    "jumlah_sample = df[df['charges']>16700].value_counts().sum()\n",
    "print(\"Jumlah orang mendapatkan tagihan kesehatan > 16.7K: {}\".format(jumlah_sample))\n",
    "\n",
    "# 2. Jumlah orang dengan bmi > 25 dan charges > 16.7K\n",
    "jumlah_1 = df.where((df['bmi']>25) & (df['charges']>16700)).value_counts().sum()\n",
    "print(\"Distribusi orang dengan BMI > 25 dan mendapatkan tagihan kesehatan > 16.7K: {}\".format(jumlah_1))\n",
    "\n",
    "# 3. Probability orang dengan bmi > 25 dan charges > 16.7K\n",
    "p_jumlah_1 = jumlah_1 / jumlah_sample\n",
    "print(\"Probability jumlah orang dengan BMI > 25 dan mendapatkan tagihan kesehatan > 16.7K: {}\".format(np.round(p_jumlah_1, 2)))"
   ]
  },
  {
   "attachments": {},
   "cell_type": "markdown",
   "metadata": {},
   "source": [
    "b. Seseorang dengan BMI dibawah 25 mendapatkan tagihan kesehatan diatas 16.7k"
   ]
  },
  {
   "cell_type": "code",
   "execution_count": 5,
   "metadata": {},
   "outputs": [
    {
     "name": "stdout",
     "output_type": "stream",
     "text": [
      "Jumlah orang mendapatkan tagihan kesehatan > 16.7K: 334\n",
      "Distribusi orang dengan BMI < 25 dan mendapatkan tagihan kesehatan > 16.7K: 51\n",
      "Probability jumlah orang dengan BMI < 25 dan mendapatkan tagihan kesehatan > 16.7K: 0.15\n"
     ]
    }
   ],
   "source": [
    "# 1. Jumlah sample yaitu orang dengan tagihan kesehatan > 16.7K\n",
    "jumlah_sample = df[df['charges']>16700].value_counts().sum()\n",
    "print(\"Jumlah orang mendapatkan tagihan kesehatan > 16.7K: {}\".format(jumlah_sample))\n",
    "\n",
    "# 2. Jumlah oragn dengan bmi < 25 dan charges > 16700\n",
    "jumlah_1 = df.where((df['bmi']<25) & (df['charges']>16700)).value_counts().sum()\n",
    "print(\"Distribusi orang dengan BMI < 25 dan mendapatkan tagihan kesehatan > 16.7K: {}\".format(jumlah_1))\n",
    "\n",
    "# 3. Probability orang dengan bmi < 25 dan charges > 16700\n",
    "p_jumlah_1 = jumlah_1 / jumlah_sample\n",
    "print(\"Probability jumlah orang dengan BMI < 25 dan mendapatkan tagihan kesehatan > 16.7K: {}\".format(np.round(p_jumlah_1, 2)))"
   ]
  },
  {
   "attachments": {},
   "cell_type": "markdown",
   "metadata": {},
   "source": [
    "Jadi, yang paling mungkin terjadi adalah orang dengan BMI > 25 dan mendapatkan tagihan kesehatan > 16.7K dengan probabilitas sebesar 0.85, di mana bisa juga dikatakan bahwa 8 dari 10 orang dengan BMI lebih dari 25 memiliki tagihan kesehatan lebih dari 16.7K."
   ]
  },
  {
   "attachments": {},
   "cell_type": "markdown",
   "metadata": {},
   "source": [
    "---\n",
    "2. Mana yang lebih mungkin terjadi\n",
    "\n",
    "    a. Seseorang perokok dengan BMI diatas 25 mendapatkan tagihan kesehatan diatas 16.7k, atau\n",
    "    \n",
    "    b. Seseorang non perokok dengan BMI diatas 25 mendapatkan tagihan kesehatan diatas 16.7k"
   ]
  },
  {
   "attachments": {},
   "cell_type": "markdown",
   "metadata": {},
   "source": [
    "a. Seseorang perokok dengan BMI diatas 25 mendapatkan tagihan kesehatan diatas 16.7k"
   ]
  },
  {
   "cell_type": "code",
   "execution_count": 6,
   "metadata": {},
   "outputs": [
    {
     "name": "stdout",
     "output_type": "stream",
     "text": [
      "Jumlah orang dengan BMI > 25 dan mendapatkan tagihan kesehatan > 16.7K: 283\n",
      "Distribusi orang perokok dengan BMI > 25 dan mendapatkan tagihan kesehatan > 16.7K: 215\n",
      "Probability jumlah orang perokok dengan BMI > 25 dan mendapatkan tagihan kesehatan > 16.7K: 0.76\n"
     ]
    }
   ],
   "source": [
    "# 1. Jumlah sample yaitu orang dengan BMI > 25 dan tagihan kesehatan > 16.7K\n",
    "jumlah_sample = df[df['bmi']>25].where(df['charges']>16700).value_counts().sum()\n",
    "print(\"Jumlah orang dengan BMI > 25 dan mendapatkan tagihan kesehatan > 16.7K: {}\".format(jumlah_sample))\n",
    "\n",
    "# 2. Jumlah orang di mana smoker=='yes' dan bmi > 25 dan charges > 16.7\n",
    "jumlah_1 = df.where((df['smoker']=='yes') & (df['bmi']>25) & (df['charges']>16700)).value_counts().sum()\n",
    "print(\"Distribusi orang perokok dengan BMI > 25 dan mendapatkan tagihan kesehatan > 16.7K: {}\".format(jumlah_1))\n",
    "\n",
    "# Probability \n",
    "p_jumlah_1 = jumlah_1 / jumlah_sample\n",
    "print(\"Probability jumlah orang perokok dengan BMI > 25 dan mendapatkan tagihan kesehatan > 16.7K: {}\".format(np.round(p_jumlah_1, 2)))"
   ]
  },
  {
   "attachments": {},
   "cell_type": "markdown",
   "metadata": {},
   "source": [
    "b. Seseorang non perokok dengan BMI diatas 25 mendapatkan tagihan kesehatan diatas 16.7k"
   ]
  },
  {
   "cell_type": "code",
   "execution_count": 7,
   "metadata": {},
   "outputs": [
    {
     "name": "stdout",
     "output_type": "stream",
     "text": [
      "Jumlah orang dengan BMI > 25 dan mendapatkan tagihan kesehatan > 16.7K: 283\n",
      "Distribusi orang non perokok dengan BMI > 25 dan mendapatkan tagihan kesehatan > 16.7K: 68\n",
      "Probability jumlah orang non perokok dengan BMI > 25 dan mendapatkan tagihan kesehatan > 16.7K: 0.24\n"
     ]
    }
   ],
   "source": [
    "# 1. Jumlah sample yaitu orang dengan BMI > 25 dan tagihan kesehatan > 16.7K\n",
    "jumlah_sample = df[df['bmi']>25].where(df['charges']>16700).value_counts().sum()\n",
    "print(\"Jumlah orang dengan BMI > 25 dan mendapatkan tagihan kesehatan > 16.7K: {}\".format(jumlah_sample))\n",
    "\n",
    "# 2. Jumlah orang di mana smoker=='no' dan bmi > 25 dan charges > 16.7\n",
    "jumlah_1 = df.where((df['smoker']=='no') & (df['bmi']>25) & (df['charges']>16700)).value_counts().sum()\n",
    "print(\"Distribusi orang non perokok dengan BMI > 25 dan mendapatkan tagihan kesehatan > 16.7K: {}\".format(jumlah_1))\n",
    "\n",
    "# Probability \n",
    "p_jumlah_1 = jumlah_1 / jumlah_sample\n",
    "print(\"Probability jumlah orang non perokok dengan BMI > 25 dan mendapatkan tagihan kesehatan > 16.7K: {}\".format(np.round(p_jumlah_1, 2)))"
   ]
  }
 ],
 "metadata": {
  "kernelspec": {
   "display_name": "pacmann-course",
   "language": "python",
   "name": "python3"
  },
  "language_info": {
   "codemirror_mode": {
    "name": "ipython",
    "version": 3
   },
   "file_extension": ".py",
   "mimetype": "text/x-python",
   "name": "python",
   "nbconvert_exporter": "python",
   "pygments_lexer": "ipython3",
   "version": "3.9.13"
  },
  "orig_nbformat": 4,
  "vscode": {
   "interpreter": {
    "hash": "c3f8ee61c80338591f092dd802abbf205f63be7a75e3521b7a9cc7616b35b09f"
   }
  }
 },
 "nbformat": 4,
 "nbformat_minor": 2
}
